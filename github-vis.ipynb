{
 "cells": [
  {
   "cell_type": "code",
   "execution_count": 1,
   "metadata": {},
   "outputs": [
    {
     "name": "stdout",
     "output_type": "stream",
     "text": [
      "Index(['id', 'node_id', 'name', 'full_name', 'private', 'html_url',\n",
      "       'description', 'fork', 'url', 'forks_url',\n",
      "       ...\n",
      "       'license.spdx_id', 'license.url', 'license.node_id',\n",
      "       'permissions.admin', 'permissions.maintain', 'permissions.push',\n",
      "       'permissions.triage', 'permissions.pull', 'license', 'starred_at'],\n",
      "      dtype='object', length=107)\n"
     ]
    },
    {
     "data": {
      "text/html": [
       "<div>\n",
       "<style scoped>\n",
       "    .dataframe tbody tr th:only-of-type {\n",
       "        vertical-align: middle;\n",
       "    }\n",
       "\n",
       "    .dataframe tbody tr th {\n",
       "        vertical-align: top;\n",
       "    }\n",
       "\n",
       "    .dataframe thead th {\n",
       "        text-align: right;\n",
       "    }\n",
       "</style>\n",
       "<table border=\"1\" class=\"dataframe\">\n",
       "  <thead>\n",
       "    <tr style=\"text-align: right;\">\n",
       "      <th></th>\n",
       "      <th>id</th>\n",
       "      <th>name</th>\n",
       "      <th>full_name</th>\n",
       "      <th>private</th>\n",
       "      <th>html_url</th>\n",
       "      <th>starred_at</th>\n",
       "      <th>created_at</th>\n",
       "      <th>updated_at</th>\n",
       "      <th>pushed_at</th>\n",
       "      <th>homepage</th>\n",
       "      <th>size</th>\n",
       "      <th>stargazers_count</th>\n",
       "      <th>watchers_count</th>\n",
       "      <th>language</th>\n",
       "      <th>forks_count</th>\n",
       "      <th>description</th>\n",
       "      <th>topics</th>\n",
       "      <th>visibility</th>\n",
       "      <th>forks</th>\n",
       "      <th>watchers</th>\n",
       "    </tr>\n",
       "  </thead>\n",
       "  <tbody>\n",
       "    <tr>\n",
       "      <th>0</th>\n",
       "      <td>365005377</td>\n",
       "      <td>btop</td>\n",
       "      <td>aristocratos/btop</td>\n",
       "      <td>False</td>\n",
       "      <td>https://github.com/aristocratos/btop</td>\n",
       "      <td>2023-07-10 08:36:16+00:00</td>\n",
       "      <td>2021-05-06 18:40:21+00:00</td>\n",
       "      <td>2023-07-10 13:14:49+00:00</td>\n",
       "      <td>2023-07-05 11:23:29+00:00</td>\n",
       "      <td>NaN</td>\n",
       "      <td>8343</td>\n",
       "      <td>12279</td>\n",
       "      <td>12279</td>\n",
       "      <td>C++</td>\n",
       "      <td>398</td>\n",
       "      <td>A monitor of resources</td>\n",
       "      <td>[]</td>\n",
       "      <td>public</td>\n",
       "      <td>398</td>\n",
       "      <td>12279</td>\n",
       "    </tr>\n",
       "    <tr>\n",
       "      <th>1</th>\n",
       "      <td>401561230</td>\n",
       "      <td>challenge100-codingtest-study</td>\n",
       "      <td>ellynhan/challenge100-codingtest-study</td>\n",
       "      <td>False</td>\n",
       "      <td>https://github.com/ellynhan/challenge100-codin...</td>\n",
       "      <td>2023-07-10 06:38:43+00:00</td>\n",
       "      <td>2021-08-31 03:30:36+00:00</td>\n",
       "      <td>2023-07-10 06:38:43+00:00</td>\n",
       "      <td>2023-07-10 02:33:08+00:00</td>\n",
       "      <td>NaN</td>\n",
       "      <td>6224</td>\n",
       "      <td>126</td>\n",
       "      <td>126</td>\n",
       "      <td>C++</td>\n",
       "      <td>87</td>\n",
       "      <td>누구나 참여 가능한 알고리즘 코딩테스트 문제풀이 스터디  - 깃헙 잔디 채워봅시다!</td>\n",
       "      <td>[algorithms-and-data-structures, codingtest, p...</td>\n",
       "      <td>public</td>\n",
       "      <td>87</td>\n",
       "      <td>126</td>\n",
       "    </tr>\n",
       "    <tr>\n",
       "      <th>2</th>\n",
       "      <td>320135333</td>\n",
       "      <td>aws-mysql-jdbc</td>\n",
       "      <td>awslabs/aws-mysql-jdbc</td>\n",
       "      <td>False</td>\n",
       "      <td>https://github.com/awslabs/aws-mysql-jdbc</td>\n",
       "      <td>2023-07-09 02:57:22+00:00</td>\n",
       "      <td>2020-12-10 02:21:58+00:00</td>\n",
       "      <td>2023-07-09 02:57:23+00:00</td>\n",
       "      <td>2023-07-08 01:38:12+00:00</td>\n",
       "      <td>https://awslabs.github.io/aws-mysql-jdbc/</td>\n",
       "      <td>6805</td>\n",
       "      <td>186</td>\n",
       "      <td>186</td>\n",
       "      <td>Java</td>\n",
       "      <td>46</td>\n",
       "      <td>The Amazon Web Services (AWS) JDBC Driver for ...</td>\n",
       "      <td>[aws-jdbc-driver, java, jdbc, mysql, mysql-con...</td>\n",
       "      <td>public</td>\n",
       "      <td>46</td>\n",
       "      <td>186</td>\n",
       "    </tr>\n",
       "    <tr>\n",
       "      <th>3</th>\n",
       "      <td>13404515</td>\n",
       "      <td>HikariCP</td>\n",
       "      <td>brettwooldridge/HikariCP</td>\n",
       "      <td>False</td>\n",
       "      <td>https://github.com/brettwooldridge/HikariCP</td>\n",
       "      <td>2023-07-09 02:17:05+00:00</td>\n",
       "      <td>2013-10-08 05:43:03+00:00</td>\n",
       "      <td>2023-07-10 02:25:43+00:00</td>\n",
       "      <td>2023-07-07 10:10:53+00:00</td>\n",
       "      <td>NaN</td>\n",
       "      <td>4649</td>\n",
       "      <td>18408</td>\n",
       "      <td>18408</td>\n",
       "      <td>Java</td>\n",
       "      <td>2776</td>\n",
       "      <td>光 HikariCP・A solid, high-performance, JDBC con...</td>\n",
       "      <td>[connection-pool, high-performance, java, jdbc]</td>\n",
       "      <td>public</td>\n",
       "      <td>2776</td>\n",
       "      <td>18408</td>\n",
       "    </tr>\n",
       "    <tr>\n",
       "      <th>4</th>\n",
       "      <td>323968067</td>\n",
       "      <td>Number_Theory_in_CP_PS</td>\n",
       "      <td>rkm0959/Number_Theory_in_CP_PS</td>\n",
       "      <td>False</td>\n",
       "      <td>https://github.com/rkm0959/Number_Theory_in_CP_PS</td>\n",
       "      <td>2023-07-08 11:51:58+00:00</td>\n",
       "      <td>2020-12-23 17:52:55+00:00</td>\n",
       "      <td>2023-07-08 11:51:58+00:00</td>\n",
       "      <td>2021-03-29 04:34:29+00:00</td>\n",
       "      <td>NaN</td>\n",
       "      <td>87</td>\n",
       "      <td>142</td>\n",
       "      <td>142</td>\n",
       "      <td>C++</td>\n",
       "      <td>4</td>\n",
       "      <td>CP, PS 정수론을 위한 가이드</td>\n",
       "      <td>[competitive-programming, number-theory]</td>\n",
       "      <td>public</td>\n",
       "      <td>4</td>\n",
       "      <td>142</td>\n",
       "    </tr>\n",
       "  </tbody>\n",
       "</table>\n",
       "</div>"
      ],
      "text/plain": [
       "          id                           name   \n",
       "0  365005377                           btop  \\\n",
       "1  401561230  challenge100-codingtest-study   \n",
       "2  320135333                 aws-mysql-jdbc   \n",
       "3   13404515                       HikariCP   \n",
       "4  323968067         Number_Theory_in_CP_PS   \n",
       "\n",
       "                                full_name  private   \n",
       "0                       aristocratos/btop    False  \\\n",
       "1  ellynhan/challenge100-codingtest-study    False   \n",
       "2                  awslabs/aws-mysql-jdbc    False   \n",
       "3                brettwooldridge/HikariCP    False   \n",
       "4          rkm0959/Number_Theory_in_CP_PS    False   \n",
       "\n",
       "                                            html_url   \n",
       "0               https://github.com/aristocratos/btop  \\\n",
       "1  https://github.com/ellynhan/challenge100-codin...   \n",
       "2          https://github.com/awslabs/aws-mysql-jdbc   \n",
       "3        https://github.com/brettwooldridge/HikariCP   \n",
       "4  https://github.com/rkm0959/Number_Theory_in_CP_PS   \n",
       "\n",
       "                 starred_at                created_at   \n",
       "0 2023-07-10 08:36:16+00:00 2021-05-06 18:40:21+00:00  \\\n",
       "1 2023-07-10 06:38:43+00:00 2021-08-31 03:30:36+00:00   \n",
       "2 2023-07-09 02:57:22+00:00 2020-12-10 02:21:58+00:00   \n",
       "3 2023-07-09 02:17:05+00:00 2013-10-08 05:43:03+00:00   \n",
       "4 2023-07-08 11:51:58+00:00 2020-12-23 17:52:55+00:00   \n",
       "\n",
       "                 updated_at                 pushed_at   \n",
       "0 2023-07-10 13:14:49+00:00 2023-07-05 11:23:29+00:00  \\\n",
       "1 2023-07-10 06:38:43+00:00 2023-07-10 02:33:08+00:00   \n",
       "2 2023-07-09 02:57:23+00:00 2023-07-08 01:38:12+00:00   \n",
       "3 2023-07-10 02:25:43+00:00 2023-07-07 10:10:53+00:00   \n",
       "4 2023-07-08 11:51:58+00:00 2021-03-29 04:34:29+00:00   \n",
       "\n",
       "                                    homepage  size  stargazers_count   \n",
       "0                                        NaN  8343             12279  \\\n",
       "1                                        NaN  6224               126   \n",
       "2  https://awslabs.github.io/aws-mysql-jdbc/  6805               186   \n",
       "3                                        NaN  4649             18408   \n",
       "4                                        NaN    87               142   \n",
       "\n",
       "   watchers_count language  forks_count   \n",
       "0           12279      C++          398  \\\n",
       "1             126      C++           87   \n",
       "2             186     Java           46   \n",
       "3           18408     Java         2776   \n",
       "4             142      C++            4   \n",
       "\n",
       "                                         description   \n",
       "0                             A monitor of resources  \\\n",
       "1     누구나 참여 가능한 알고리즘 코딩테스트 문제풀이 스터디  - 깃헙 잔디 채워봅시다!   \n",
       "2  The Amazon Web Services (AWS) JDBC Driver for ...   \n",
       "3  光 HikariCP・A solid, high-performance, JDBC con...   \n",
       "4                                 CP, PS 정수론을 위한 가이드   \n",
       "\n",
       "                                              topics visibility  forks   \n",
       "0                                                 []     public    398  \\\n",
       "1  [algorithms-and-data-structures, codingtest, p...     public     87   \n",
       "2  [aws-jdbc-driver, java, jdbc, mysql, mysql-con...     public     46   \n",
       "3    [connection-pool, high-performance, java, jdbc]     public   2776   \n",
       "4           [competitive-programming, number-theory]     public      4   \n",
       "\n",
       "   watchers  \n",
       "0     12279  \n",
       "1       126  \n",
       "2       186  \n",
       "3     18408  \n",
       "4       142  "
      ]
     },
     "execution_count": 1,
     "metadata": {},
     "output_type": "execute_result"
    }
   ],
   "source": [
    "import json\n",
    "import pandas as pd\n",
    "import numpy as np\n",
    "\n",
    "df = pd.read_csv(\"./data/stars_final.csv\",index_col=0)\n",
    "df.starred_at = pd.to_datetime(df.starred_at)\n",
    "df.created_at = pd.to_datetime(df.created_at)\n",
    "df.updated_at = pd.to_datetime(df.updated_at)\n",
    "df.pushed_at = pd.to_datetime(df.pushed_at)\n",
    "df.topics = [eval(a) for a in df.topics.array]\n",
    "\n",
    "print(df.columns)\n",
    "df = df[[\n",
    "    \"id\",\"name\",\"full_name\",\"private\",\"html_url\",\n",
    "    \"starred_at\",\n",
    "    \"created_at\",\"updated_at\", \"pushed_at\",\"homepage\",\n",
    "    \"size\",\"stargazers_count\",\"watchers_count\",\"language\",\"forks_count\",\n",
    "    \"description\",\"topics\",\"visibility\",\"forks\",\"watchers\",]]\n",
    "df.head()"
   ]
  },
  {
   "cell_type": "code",
   "execution_count": 2,
   "metadata": {},
   "outputs": [],
   "source": [
    "# Full topics dataframe\n",
    "# all_topics = set(df[\"topics\"].explode().to_list())\n",
    "# print(all_topics)\n",
    "\n",
    "# aaa_df = pd.get_dummies(df.topics)"
   ]
  },
  {
   "cell_type": "markdown",
   "metadata": {},
   "source": [
    "## Graph by Starred chronological order "
   ]
  },
  {
   "cell_type": "code",
   "execution_count": 3,
   "metadata": {},
   "outputs": [
    {
     "data": {
      "text/html": [
       "<div>\n",
       "<style scoped>\n",
       "    .dataframe tbody tr th:only-of-type {\n",
       "        vertical-align: middle;\n",
       "    }\n",
       "\n",
       "    .dataframe tbody tr th {\n",
       "        vertical-align: top;\n",
       "    }\n",
       "\n",
       "    .dataframe thead th {\n",
       "        text-align: right;\n",
       "    }\n",
       "</style>\n",
       "<table border=\"1\" class=\"dataframe\">\n",
       "  <thead>\n",
       "    <tr style=\"text-align: right;\">\n",
       "      <th></th>\n",
       "      <th>topic</th>\n",
       "      <th>count</th>\n",
       "    </tr>\n",
       "  </thead>\n",
       "  <tbody>\n",
       "    <tr>\n",
       "      <th>1120</th>\n",
       "      <td>python</td>\n",
       "      <td>58</td>\n",
       "    </tr>\n",
       "    <tr>\n",
       "      <th>1474</th>\n",
       "      <td>hacktoberfest</td>\n",
       "      <td>36</td>\n",
       "    </tr>\n",
       "    <tr>\n",
       "      <th>1498</th>\n",
       "      <td>machine-learning</td>\n",
       "      <td>24</td>\n",
       "    </tr>\n",
       "    <tr>\n",
       "      <th>657</th>\n",
       "      <td>linux</td>\n",
       "      <td>23</td>\n",
       "    </tr>\n",
       "    <tr>\n",
       "      <th>1202</th>\n",
       "      <td>awesome</td>\n",
       "      <td>22</td>\n",
       "    </tr>\n",
       "    <tr>\n",
       "      <th>705</th>\n",
       "      <td>cli</td>\n",
       "      <td>20</td>\n",
       "    </tr>\n",
       "    <tr>\n",
       "      <th>288</th>\n",
       "      <td>terminal</td>\n",
       "      <td>20</td>\n",
       "    </tr>\n",
       "    <tr>\n",
       "      <th>1147</th>\n",
       "      <td>awesome-list</td>\n",
       "      <td>17</td>\n",
       "    </tr>\n",
       "    <tr>\n",
       "      <th>675</th>\n",
       "      <td>deep-learning</td>\n",
       "      <td>16</td>\n",
       "    </tr>\n",
       "    <tr>\n",
       "      <th>74</th>\n",
       "      <td>vim</td>\n",
       "      <td>16</td>\n",
       "    </tr>\n",
       "    <tr>\n",
       "      <th>1093</th>\n",
       "      <td>javascript</td>\n",
       "      <td>14</td>\n",
       "    </tr>\n",
       "    <tr>\n",
       "      <th>156</th>\n",
       "      <td>nlp</td>\n",
       "      <td>14</td>\n",
       "    </tr>\n",
       "    <tr>\n",
       "      <th>1156</th>\n",
       "      <td>markdown</td>\n",
       "      <td>14</td>\n",
       "    </tr>\n",
       "    <tr>\n",
       "      <th>138</th>\n",
       "      <td>github</td>\n",
       "      <td>14</td>\n",
       "    </tr>\n",
       "    <tr>\n",
       "      <th>1246</th>\n",
       "      <td>neovim</td>\n",
       "      <td>13</td>\n",
       "    </tr>\n",
       "    <tr>\n",
       "      <th>948</th>\n",
       "      <td>natural-language-processing</td>\n",
       "      <td>12</td>\n",
       "    </tr>\n",
       "    <tr>\n",
       "      <th>464</th>\n",
       "      <td>shell</td>\n",
       "      <td>11</td>\n",
       "    </tr>\n",
       "    <tr>\n",
       "      <th>1448</th>\n",
       "      <td>zsh</td>\n",
       "      <td>11</td>\n",
       "    </tr>\n",
       "    <tr>\n",
       "      <th>121</th>\n",
       "      <td>docker</td>\n",
       "      <td>11</td>\n",
       "    </tr>\n",
       "    <tr>\n",
       "      <th>1316</th>\n",
       "      <td>ai</td>\n",
       "      <td>11</td>\n",
       "    </tr>\n",
       "    <tr>\n",
       "      <th>35</th>\n",
       "      <td>dotfiles</td>\n",
       "      <td>10</td>\n",
       "    </tr>\n",
       "    <tr>\n",
       "      <th>1303</th>\n",
       "      <td>theme</td>\n",
       "      <td>10</td>\n",
       "    </tr>\n",
       "    <tr>\n",
       "      <th>1515</th>\n",
       "      <td>data-science</td>\n",
       "      <td>10</td>\n",
       "    </tr>\n",
       "    <tr>\n",
       "      <th>1003</th>\n",
       "      <td>python3</td>\n",
       "      <td>10</td>\n",
       "    </tr>\n",
       "    <tr>\n",
       "      <th>1215</th>\n",
       "      <td>react</td>\n",
       "      <td>10</td>\n",
       "    </tr>\n",
       "  </tbody>\n",
       "</table>\n",
       "</div>"
      ],
      "text/plain": [
       "                            topic  count\n",
       "1120                       python     58\n",
       "1474                hacktoberfest     36\n",
       "1498             machine-learning     24\n",
       "657                         linux     23\n",
       "1202                      awesome     22\n",
       "705                           cli     20\n",
       "288                      terminal     20\n",
       "1147                 awesome-list     17\n",
       "675                 deep-learning     16\n",
       "74                            vim     16\n",
       "1093                   javascript     14\n",
       "156                           nlp     14\n",
       "1156                     markdown     14\n",
       "138                        github     14\n",
       "1246                       neovim     13\n",
       "948   natural-language-processing     12\n",
       "464                         shell     11\n",
       "1448                          zsh     11\n",
       "121                        docker     11\n",
       "1316                           ai     11\n",
       "35                       dotfiles     10\n",
       "1303                        theme     10\n",
       "1515                 data-science     10\n",
       "1003                      python3     10\n",
       "1215                        react     10"
      ]
     },
     "execution_count": 3,
     "metadata": {},
     "output_type": "execute_result"
    }
   ],
   "source": [
    "def get_topics_cnt(df):\n",
    "    all_topics = []\n",
    "    for arr in df[\"topics\"]:\n",
    "        all_topics.extend(arr)\n",
    "    topics = set(all_topics)\n",
    "    # print(len(all_topics), len(topics))\n",
    "\n",
    "    topics_cnt = [(t, all_topics.count(t)) for t in topics]\n",
    "    topics_cnt = (pd.DataFrame(topics_cnt, columns=[\"topic\",\"count\"])\n",
    "                    .sort_values(by=\"count\", ascending=False))\n",
    "    topics_cnt = topics_cnt.loc[topics_cnt[\"count\"]>=10]\n",
    "    # topics_cnt.loc[topics_cnt[\"count\"]<20,\"topic\"] = \"misc\"\n",
    "    return topics_cnt\n",
    "\n",
    "topics_cnt = get_topics_cnt(df)\n",
    "topics_cnt"
   ]
  },
  {
   "cell_type": "code",
   "execution_count": 4,
   "metadata": {},
   "outputs": [
    {
     "data": {
      "application/vnd.plotly.v1+json": {
       "config": {
        "plotlyServerURL": "https://plot.ly"
       },
       "data": [
        {
         "domain": {
          "x": [
           0,
           1
          ],
          "y": [
           0,
           1
          ]
         },
         "hovertemplate": "label=%{label}<br>value=%{value}<extra></extra>",
         "labels": [
          "python",
          "hacktoberfest",
          "machine-learning",
          "linux",
          "awesome",
          "cli",
          "terminal",
          "awesome-list",
          "deep-learning",
          "vim",
          "javascript",
          "nlp",
          "markdown",
          "github",
          "neovim",
          "natural-language-processing",
          "shell",
          "zsh",
          "docker",
          "ai",
          "dotfiles",
          "theme",
          "data-science",
          "python3",
          "react"
         ],
         "legendgroup": "",
         "name": "",
         "showlegend": true,
         "type": "pie",
         "values": [
          58,
          36,
          24,
          23,
          22,
          20,
          20,
          17,
          16,
          16,
          14,
          14,
          14,
          14,
          13,
          12,
          11,
          11,
          11,
          11,
          10,
          10,
          10,
          10,
          10
         ]
        }
       ],
       "layout": {
        "legend": {
         "tracegroupgap": 0
        },
        "template": {
         "data": {
          "bar": [
           {
            "error_x": {
             "color": "#2a3f5f"
            },
            "error_y": {
             "color": "#2a3f5f"
            },
            "marker": {
             "line": {
              "color": "#E5ECF6",
              "width": 0.5
             },
             "pattern": {
              "fillmode": "overlay",
              "size": 10,
              "solidity": 0.2
             }
            },
            "type": "bar"
           }
          ],
          "barpolar": [
           {
            "marker": {
             "line": {
              "color": "#E5ECF6",
              "width": 0.5
             },
             "pattern": {
              "fillmode": "overlay",
              "size": 10,
              "solidity": 0.2
             }
            },
            "type": "barpolar"
           }
          ],
          "carpet": [
           {
            "aaxis": {
             "endlinecolor": "#2a3f5f",
             "gridcolor": "white",
             "linecolor": "white",
             "minorgridcolor": "white",
             "startlinecolor": "#2a3f5f"
            },
            "baxis": {
             "endlinecolor": "#2a3f5f",
             "gridcolor": "white",
             "linecolor": "white",
             "minorgridcolor": "white",
             "startlinecolor": "#2a3f5f"
            },
            "type": "carpet"
           }
          ],
          "choropleth": [
           {
            "colorbar": {
             "outlinewidth": 0,
             "ticks": ""
            },
            "type": "choropleth"
           }
          ],
          "contour": [
           {
            "colorbar": {
             "outlinewidth": 0,
             "ticks": ""
            },
            "colorscale": [
             [
              0,
              "#0d0887"
             ],
             [
              0.1111111111111111,
              "#46039f"
             ],
             [
              0.2222222222222222,
              "#7201a8"
             ],
             [
              0.3333333333333333,
              "#9c179e"
             ],
             [
              0.4444444444444444,
              "#bd3786"
             ],
             [
              0.5555555555555556,
              "#d8576b"
             ],
             [
              0.6666666666666666,
              "#ed7953"
             ],
             [
              0.7777777777777778,
              "#fb9f3a"
             ],
             [
              0.8888888888888888,
              "#fdca26"
             ],
             [
              1,
              "#f0f921"
             ]
            ],
            "type": "contour"
           }
          ],
          "contourcarpet": [
           {
            "colorbar": {
             "outlinewidth": 0,
             "ticks": ""
            },
            "type": "contourcarpet"
           }
          ],
          "heatmap": [
           {
            "colorbar": {
             "outlinewidth": 0,
             "ticks": ""
            },
            "colorscale": [
             [
              0,
              "#0d0887"
             ],
             [
              0.1111111111111111,
              "#46039f"
             ],
             [
              0.2222222222222222,
              "#7201a8"
             ],
             [
              0.3333333333333333,
              "#9c179e"
             ],
             [
              0.4444444444444444,
              "#bd3786"
             ],
             [
              0.5555555555555556,
              "#d8576b"
             ],
             [
              0.6666666666666666,
              "#ed7953"
             ],
             [
              0.7777777777777778,
              "#fb9f3a"
             ],
             [
              0.8888888888888888,
              "#fdca26"
             ],
             [
              1,
              "#f0f921"
             ]
            ],
            "type": "heatmap"
           }
          ],
          "heatmapgl": [
           {
            "colorbar": {
             "outlinewidth": 0,
             "ticks": ""
            },
            "colorscale": [
             [
              0,
              "#0d0887"
             ],
             [
              0.1111111111111111,
              "#46039f"
             ],
             [
              0.2222222222222222,
              "#7201a8"
             ],
             [
              0.3333333333333333,
              "#9c179e"
             ],
             [
              0.4444444444444444,
              "#bd3786"
             ],
             [
              0.5555555555555556,
              "#d8576b"
             ],
             [
              0.6666666666666666,
              "#ed7953"
             ],
             [
              0.7777777777777778,
              "#fb9f3a"
             ],
             [
              0.8888888888888888,
              "#fdca26"
             ],
             [
              1,
              "#f0f921"
             ]
            ],
            "type": "heatmapgl"
           }
          ],
          "histogram": [
           {
            "marker": {
             "pattern": {
              "fillmode": "overlay",
              "size": 10,
              "solidity": 0.2
             }
            },
            "type": "histogram"
           }
          ],
          "histogram2d": [
           {
            "colorbar": {
             "outlinewidth": 0,
             "ticks": ""
            },
            "colorscale": [
             [
              0,
              "#0d0887"
             ],
             [
              0.1111111111111111,
              "#46039f"
             ],
             [
              0.2222222222222222,
              "#7201a8"
             ],
             [
              0.3333333333333333,
              "#9c179e"
             ],
             [
              0.4444444444444444,
              "#bd3786"
             ],
             [
              0.5555555555555556,
              "#d8576b"
             ],
             [
              0.6666666666666666,
              "#ed7953"
             ],
             [
              0.7777777777777778,
              "#fb9f3a"
             ],
             [
              0.8888888888888888,
              "#fdca26"
             ],
             [
              1,
              "#f0f921"
             ]
            ],
            "type": "histogram2d"
           }
          ],
          "histogram2dcontour": [
           {
            "colorbar": {
             "outlinewidth": 0,
             "ticks": ""
            },
            "colorscale": [
             [
              0,
              "#0d0887"
             ],
             [
              0.1111111111111111,
              "#46039f"
             ],
             [
              0.2222222222222222,
              "#7201a8"
             ],
             [
              0.3333333333333333,
              "#9c179e"
             ],
             [
              0.4444444444444444,
              "#bd3786"
             ],
             [
              0.5555555555555556,
              "#d8576b"
             ],
             [
              0.6666666666666666,
              "#ed7953"
             ],
             [
              0.7777777777777778,
              "#fb9f3a"
             ],
             [
              0.8888888888888888,
              "#fdca26"
             ],
             [
              1,
              "#f0f921"
             ]
            ],
            "type": "histogram2dcontour"
           }
          ],
          "mesh3d": [
           {
            "colorbar": {
             "outlinewidth": 0,
             "ticks": ""
            },
            "type": "mesh3d"
           }
          ],
          "parcoords": [
           {
            "line": {
             "colorbar": {
              "outlinewidth": 0,
              "ticks": ""
             }
            },
            "type": "parcoords"
           }
          ],
          "pie": [
           {
            "automargin": true,
            "type": "pie"
           }
          ],
          "scatter": [
           {
            "fillpattern": {
             "fillmode": "overlay",
             "size": 10,
             "solidity": 0.2
            },
            "type": "scatter"
           }
          ],
          "scatter3d": [
           {
            "line": {
             "colorbar": {
              "outlinewidth": 0,
              "ticks": ""
             }
            },
            "marker": {
             "colorbar": {
              "outlinewidth": 0,
              "ticks": ""
             }
            },
            "type": "scatter3d"
           }
          ],
          "scattercarpet": [
           {
            "marker": {
             "colorbar": {
              "outlinewidth": 0,
              "ticks": ""
             }
            },
            "type": "scattercarpet"
           }
          ],
          "scattergeo": [
           {
            "marker": {
             "colorbar": {
              "outlinewidth": 0,
              "ticks": ""
             }
            },
            "type": "scattergeo"
           }
          ],
          "scattergl": [
           {
            "marker": {
             "colorbar": {
              "outlinewidth": 0,
              "ticks": ""
             }
            },
            "type": "scattergl"
           }
          ],
          "scattermapbox": [
           {
            "marker": {
             "colorbar": {
              "outlinewidth": 0,
              "ticks": ""
             }
            },
            "type": "scattermapbox"
           }
          ],
          "scatterpolar": [
           {
            "marker": {
             "colorbar": {
              "outlinewidth": 0,
              "ticks": ""
             }
            },
            "type": "scatterpolar"
           }
          ],
          "scatterpolargl": [
           {
            "marker": {
             "colorbar": {
              "outlinewidth": 0,
              "ticks": ""
             }
            },
            "type": "scatterpolargl"
           }
          ],
          "scatterternary": [
           {
            "marker": {
             "colorbar": {
              "outlinewidth": 0,
              "ticks": ""
             }
            },
            "type": "scatterternary"
           }
          ],
          "surface": [
           {
            "colorbar": {
             "outlinewidth": 0,
             "ticks": ""
            },
            "colorscale": [
             [
              0,
              "#0d0887"
             ],
             [
              0.1111111111111111,
              "#46039f"
             ],
             [
              0.2222222222222222,
              "#7201a8"
             ],
             [
              0.3333333333333333,
              "#9c179e"
             ],
             [
              0.4444444444444444,
              "#bd3786"
             ],
             [
              0.5555555555555556,
              "#d8576b"
             ],
             [
              0.6666666666666666,
              "#ed7953"
             ],
             [
              0.7777777777777778,
              "#fb9f3a"
             ],
             [
              0.8888888888888888,
              "#fdca26"
             ],
             [
              1,
              "#f0f921"
             ]
            ],
            "type": "surface"
           }
          ],
          "table": [
           {
            "cells": {
             "fill": {
              "color": "#EBF0F8"
             },
             "line": {
              "color": "white"
             }
            },
            "header": {
             "fill": {
              "color": "#C8D4E3"
             },
             "line": {
              "color": "white"
             }
            },
            "type": "table"
           }
          ]
         },
         "layout": {
          "annotationdefaults": {
           "arrowcolor": "#2a3f5f",
           "arrowhead": 0,
           "arrowwidth": 1
          },
          "autotypenumbers": "strict",
          "coloraxis": {
           "colorbar": {
            "outlinewidth": 0,
            "ticks": ""
           }
          },
          "colorscale": {
           "diverging": [
            [
             0,
             "#8e0152"
            ],
            [
             0.1,
             "#c51b7d"
            ],
            [
             0.2,
             "#de77ae"
            ],
            [
             0.3,
             "#f1b6da"
            ],
            [
             0.4,
             "#fde0ef"
            ],
            [
             0.5,
             "#f7f7f7"
            ],
            [
             0.6,
             "#e6f5d0"
            ],
            [
             0.7,
             "#b8e186"
            ],
            [
             0.8,
             "#7fbc41"
            ],
            [
             0.9,
             "#4d9221"
            ],
            [
             1,
             "#276419"
            ]
           ],
           "sequential": [
            [
             0,
             "#0d0887"
            ],
            [
             0.1111111111111111,
             "#46039f"
            ],
            [
             0.2222222222222222,
             "#7201a8"
            ],
            [
             0.3333333333333333,
             "#9c179e"
            ],
            [
             0.4444444444444444,
             "#bd3786"
            ],
            [
             0.5555555555555556,
             "#d8576b"
            ],
            [
             0.6666666666666666,
             "#ed7953"
            ],
            [
             0.7777777777777778,
             "#fb9f3a"
            ],
            [
             0.8888888888888888,
             "#fdca26"
            ],
            [
             1,
             "#f0f921"
            ]
           ],
           "sequentialminus": [
            [
             0,
             "#0d0887"
            ],
            [
             0.1111111111111111,
             "#46039f"
            ],
            [
             0.2222222222222222,
             "#7201a8"
            ],
            [
             0.3333333333333333,
             "#9c179e"
            ],
            [
             0.4444444444444444,
             "#bd3786"
            ],
            [
             0.5555555555555556,
             "#d8576b"
            ],
            [
             0.6666666666666666,
             "#ed7953"
            ],
            [
             0.7777777777777778,
             "#fb9f3a"
            ],
            [
             0.8888888888888888,
             "#fdca26"
            ],
            [
             1,
             "#f0f921"
            ]
           ]
          },
          "colorway": [
           "#636efa",
           "#EF553B",
           "#00cc96",
           "#ab63fa",
           "#FFA15A",
           "#19d3f3",
           "#FF6692",
           "#B6E880",
           "#FF97FF",
           "#FECB52"
          ],
          "font": {
           "color": "#2a3f5f"
          },
          "geo": {
           "bgcolor": "white",
           "lakecolor": "white",
           "landcolor": "#E5ECF6",
           "showlakes": true,
           "showland": true,
           "subunitcolor": "white"
          },
          "hoverlabel": {
           "align": "left"
          },
          "hovermode": "closest",
          "mapbox": {
           "style": "light"
          },
          "paper_bgcolor": "white",
          "plot_bgcolor": "#E5ECF6",
          "polar": {
           "angularaxis": {
            "gridcolor": "white",
            "linecolor": "white",
            "ticks": ""
           },
           "bgcolor": "#E5ECF6",
           "radialaxis": {
            "gridcolor": "white",
            "linecolor": "white",
            "ticks": ""
           }
          },
          "scene": {
           "xaxis": {
            "backgroundcolor": "#E5ECF6",
            "gridcolor": "white",
            "gridwidth": 2,
            "linecolor": "white",
            "showbackground": true,
            "ticks": "",
            "zerolinecolor": "white"
           },
           "yaxis": {
            "backgroundcolor": "#E5ECF6",
            "gridcolor": "white",
            "gridwidth": 2,
            "linecolor": "white",
            "showbackground": true,
            "ticks": "",
            "zerolinecolor": "white"
           },
           "zaxis": {
            "backgroundcolor": "#E5ECF6",
            "gridcolor": "white",
            "gridwidth": 2,
            "linecolor": "white",
            "showbackground": true,
            "ticks": "",
            "zerolinecolor": "white"
           }
          },
          "shapedefaults": {
           "line": {
            "color": "#2a3f5f"
           }
          },
          "ternary": {
           "aaxis": {
            "gridcolor": "white",
            "linecolor": "white",
            "ticks": ""
           },
           "baxis": {
            "gridcolor": "white",
            "linecolor": "white",
            "ticks": ""
           },
           "bgcolor": "#E5ECF6",
           "caxis": {
            "gridcolor": "white",
            "linecolor": "white",
            "ticks": ""
           }
          },
          "title": {
           "x": 0.05
          },
          "xaxis": {
           "automargin": true,
           "gridcolor": "white",
           "linecolor": "white",
           "ticks": "",
           "title": {
            "standoff": 15
           },
           "zerolinecolor": "white",
           "zerolinewidth": 2
          },
          "yaxis": {
           "automargin": true,
           "gridcolor": "white",
           "linecolor": "white",
           "ticks": "",
           "title": {
            "standoff": 15
           },
           "zerolinecolor": "white",
           "zerolinewidth": 2
          }
         }
        },
        "title": {
         "text": "Distribution by popular tags"
        }
       }
      }
     },
     "metadata": {},
     "output_type": "display_data"
    }
   ],
   "source": [
    "import plotly.express as px\n",
    "topics_cnt_np = np.array(topics_cnt).T\n",
    "\n",
    "fig = px.pie(topics_cnt[\"topic\"], title=\"Distribution by popular tags\",\n",
    "              names=topics_cnt_np[0], values=topics_cnt_np[1])\n",
    "fig.show()"
   ]
  },
  {
   "cell_type": "markdown",
   "metadata": {},
   "source": [
    "## Visualize Numerical data"
   ]
  },
  {
   "cell_type": "code",
   "execution_count": 5,
   "metadata": {},
   "outputs": [
    {
     "data": {
      "text/html": [
       "<div>\n",
       "<style scoped>\n",
       "    .dataframe tbody tr th:only-of-type {\n",
       "        vertical-align: middle;\n",
       "    }\n",
       "\n",
       "    .dataframe tbody tr th {\n",
       "        vertical-align: top;\n",
       "    }\n",
       "\n",
       "    .dataframe thead th {\n",
       "        text-align: right;\n",
       "    }\n",
       "</style>\n",
       "<table border=\"1\" class=\"dataframe\">\n",
       "  <thead>\n",
       "    <tr style=\"text-align: right;\">\n",
       "      <th></th>\n",
       "      <th>name</th>\n",
       "      <th>created_at</th>\n",
       "      <th>size</th>\n",
       "      <th>stargazers_count</th>\n",
       "      <th>forks_count</th>\n",
       "    </tr>\n",
       "  </thead>\n",
       "  <tbody>\n",
       "    <tr>\n",
       "      <th>44</th>\n",
       "      <td>tty-clock</td>\n",
       "      <td>2008-06-08 23:25:04+00:00</td>\n",
       "      <td>176</td>\n",
       "      <td>750</td>\n",
       "      <td>110</td>\n",
       "    </tr>\n",
       "    <tr>\n",
       "      <th>83</th>\n",
       "      <td>faker</td>\n",
       "      <td>2008-12-24 17:20:37+00:00</td>\n",
       "      <td>12914</td>\n",
       "      <td>10831</td>\n",
       "      <td>3124</td>\n",
       "    </tr>\n",
       "    <tr>\n",
       "      <th>25</th>\n",
       "      <td>oocss</td>\n",
       "      <td>2009-01-28 02:13:19+00:00</td>\n",
       "      <td>5287</td>\n",
       "      <td>6251</td>\n",
       "      <td>741</td>\n",
       "    </tr>\n",
       "    <tr>\n",
       "      <th>23</th>\n",
       "      <td>todo.txt-cli</td>\n",
       "      <td>2009-03-06 01:33:34+00:00</td>\n",
       "      <td>5754</td>\n",
       "      <td>5240</td>\n",
       "      <td>681</td>\n",
       "    </tr>\n",
       "    <tr>\n",
       "      <th>39</th>\n",
       "      <td>ranger</td>\n",
       "      <td>2009-06-04 06:41:11+00:00</td>\n",
       "      <td>10493</td>\n",
       "      <td>13653</td>\n",
       "      <td>849</td>\n",
       "    </tr>\n",
       "    <tr>\n",
       "      <th>...</th>\n",
       "      <td>...</td>\n",
       "      <td>...</td>\n",
       "      <td>...</td>\n",
       "      <td>...</td>\n",
       "      <td>...</td>\n",
       "    </tr>\n",
       "    <tr>\n",
       "      <th>29</th>\n",
       "      <td>hn-recommendation-api</td>\n",
       "      <td>2023-06-13 15:59:18+00:00</td>\n",
       "      <td>147</td>\n",
       "      <td>67</td>\n",
       "      <td>6</td>\n",
       "    </tr>\n",
       "    <tr>\n",
       "      <th>20</th>\n",
       "      <td>open-resume</td>\n",
       "      <td>2023-06-24 06:06:30+00:00</td>\n",
       "      <td>1906</td>\n",
       "      <td>3198</td>\n",
       "      <td>202</td>\n",
       "    </tr>\n",
       "    <tr>\n",
       "      <th>17</th>\n",
       "      <td>chathn</td>\n",
       "      <td>2023-06-25 17:39:39+00:00</td>\n",
       "      <td>400</td>\n",
       "      <td>779</td>\n",
       "      <td>268</td>\n",
       "    </tr>\n",
       "    <tr>\n",
       "      <th>7</th>\n",
       "      <td>tinyvector</td>\n",
       "      <td>2023-07-01 00:59:09+00:00</td>\n",
       "      <td>180</td>\n",
       "      <td>599</td>\n",
       "      <td>23</td>\n",
       "    </tr>\n",
       "    <tr>\n",
       "      <th>6</th>\n",
       "      <td>hackernews-personal-blogs</td>\n",
       "      <td>2023-07-07 03:51:10+00:00</td>\n",
       "      <td>235</td>\n",
       "      <td>240</td>\n",
       "      <td>14</td>\n",
       "    </tr>\n",
       "  </tbody>\n",
       "</table>\n",
       "<p>631 rows × 5 columns</p>\n",
       "</div>"
      ],
      "text/plain": [
       "                         name                created_at   size   \n",
       "44                  tty-clock 2008-06-08 23:25:04+00:00    176  \\\n",
       "83                      faker 2008-12-24 17:20:37+00:00  12914   \n",
       "25                      oocss 2009-01-28 02:13:19+00:00   5287   \n",
       "23               todo.txt-cli 2009-03-06 01:33:34+00:00   5754   \n",
       "39                     ranger 2009-06-04 06:41:11+00:00  10493   \n",
       "..                        ...                       ...    ...   \n",
       "29      hn-recommendation-api 2023-06-13 15:59:18+00:00    147   \n",
       "20                open-resume 2023-06-24 06:06:30+00:00   1906   \n",
       "17                     chathn 2023-06-25 17:39:39+00:00    400   \n",
       "7                  tinyvector 2023-07-01 00:59:09+00:00    180   \n",
       "6   hackernews-personal-blogs 2023-07-07 03:51:10+00:00    235   \n",
       "\n",
       "    stargazers_count  forks_count  \n",
       "44               750          110  \n",
       "83             10831         3124  \n",
       "25              6251          741  \n",
       "23              5240          681  \n",
       "39             13653          849  \n",
       "..               ...          ...  \n",
       "29                67            6  \n",
       "20              3198          202  \n",
       "17               779          268  \n",
       "7                599           23  \n",
       "6                240           14  \n",
       "\n",
       "[631 rows x 5 columns]"
      ]
     },
     "execution_count": 5,
     "metadata": {},
     "output_type": "execute_result"
    }
   ],
   "source": [
    "import matplotlib.pyplot as plt\n",
    "\n",
    "num_df = df[[\"name\",\"created_at\",\"size\",\"stargazers_count\",\"forks_count\"]].sort_values(by=\"created_at\")\n",
    "num_df"
   ]
  },
  {
   "cell_type": "code",
   "execution_count": 6,
   "metadata": {},
   "outputs": [
    {
     "data": {
      "text/html": [
       "<div>\n",
       "<style scoped>\n",
       "    .dataframe tbody tr th:only-of-type {\n",
       "        vertical-align: middle;\n",
       "    }\n",
       "\n",
       "    .dataframe tbody tr th {\n",
       "        vertical-align: top;\n",
       "    }\n",
       "\n",
       "    .dataframe thead th {\n",
       "        text-align: right;\n",
       "    }\n",
       "</style>\n",
       "<table border=\"1\" class=\"dataframe\">\n",
       "  <thead>\n",
       "    <tr style=\"text-align: right;\">\n",
       "      <th></th>\n",
       "      <th>name</th>\n",
       "      <th>created_at</th>\n",
       "      <th>size</th>\n",
       "      <th>stargazers_count</th>\n",
       "      <th>forks_count</th>\n",
       "      <th>created_yy</th>\n",
       "      <th>created_mm</th>\n",
       "      <th>created_yymm</th>\n",
       "    </tr>\n",
       "  </thead>\n",
       "  <tbody>\n",
       "    <tr>\n",
       "      <th>44</th>\n",
       "      <td>tty-clock</td>\n",
       "      <td>2008-06-08 23:25:04+00:00</td>\n",
       "      <td>176</td>\n",
       "      <td>750</td>\n",
       "      <td>110</td>\n",
       "      <td>2008</td>\n",
       "      <td>6</td>\n",
       "      <td>2008-6</td>\n",
       "    </tr>\n",
       "    <tr>\n",
       "      <th>83</th>\n",
       "      <td>faker</td>\n",
       "      <td>2008-12-24 17:20:37+00:00</td>\n",
       "      <td>12914</td>\n",
       "      <td>10831</td>\n",
       "      <td>3124</td>\n",
       "      <td>2008</td>\n",
       "      <td>12</td>\n",
       "      <td>2008-12</td>\n",
       "    </tr>\n",
       "    <tr>\n",
       "      <th>25</th>\n",
       "      <td>oocss</td>\n",
       "      <td>2009-01-28 02:13:19+00:00</td>\n",
       "      <td>5287</td>\n",
       "      <td>6251</td>\n",
       "      <td>741</td>\n",
       "      <td>2009</td>\n",
       "      <td>1</td>\n",
       "      <td>2009-1</td>\n",
       "    </tr>\n",
       "    <tr>\n",
       "      <th>23</th>\n",
       "      <td>todo.txt-cli</td>\n",
       "      <td>2009-03-06 01:33:34+00:00</td>\n",
       "      <td>5754</td>\n",
       "      <td>5240</td>\n",
       "      <td>681</td>\n",
       "      <td>2009</td>\n",
       "      <td>3</td>\n",
       "      <td>2009-3</td>\n",
       "    </tr>\n",
       "    <tr>\n",
       "      <th>39</th>\n",
       "      <td>ranger</td>\n",
       "      <td>2009-06-04 06:41:11+00:00</td>\n",
       "      <td>10493</td>\n",
       "      <td>13653</td>\n",
       "      <td>849</td>\n",
       "      <td>2009</td>\n",
       "      <td>6</td>\n",
       "      <td>2009-6</td>\n",
       "    </tr>\n",
       "    <tr>\n",
       "      <th>...</th>\n",
       "      <td>...</td>\n",
       "      <td>...</td>\n",
       "      <td>...</td>\n",
       "      <td>...</td>\n",
       "      <td>...</td>\n",
       "      <td>...</td>\n",
       "      <td>...</td>\n",
       "      <td>...</td>\n",
       "    </tr>\n",
       "    <tr>\n",
       "      <th>29</th>\n",
       "      <td>hn-recommendation-api</td>\n",
       "      <td>2023-06-13 15:59:18+00:00</td>\n",
       "      <td>147</td>\n",
       "      <td>67</td>\n",
       "      <td>6</td>\n",
       "      <td>2023</td>\n",
       "      <td>6</td>\n",
       "      <td>2023-6</td>\n",
       "    </tr>\n",
       "    <tr>\n",
       "      <th>20</th>\n",
       "      <td>open-resume</td>\n",
       "      <td>2023-06-24 06:06:30+00:00</td>\n",
       "      <td>1906</td>\n",
       "      <td>3198</td>\n",
       "      <td>202</td>\n",
       "      <td>2023</td>\n",
       "      <td>6</td>\n",
       "      <td>2023-6</td>\n",
       "    </tr>\n",
       "    <tr>\n",
       "      <th>17</th>\n",
       "      <td>chathn</td>\n",
       "      <td>2023-06-25 17:39:39+00:00</td>\n",
       "      <td>400</td>\n",
       "      <td>779</td>\n",
       "      <td>268</td>\n",
       "      <td>2023</td>\n",
       "      <td>6</td>\n",
       "      <td>2023-6</td>\n",
       "    </tr>\n",
       "    <tr>\n",
       "      <th>7</th>\n",
       "      <td>tinyvector</td>\n",
       "      <td>2023-07-01 00:59:09+00:00</td>\n",
       "      <td>180</td>\n",
       "      <td>599</td>\n",
       "      <td>23</td>\n",
       "      <td>2023</td>\n",
       "      <td>7</td>\n",
       "      <td>2023-7</td>\n",
       "    </tr>\n",
       "    <tr>\n",
       "      <th>6</th>\n",
       "      <td>hackernews-personal-blogs</td>\n",
       "      <td>2023-07-07 03:51:10+00:00</td>\n",
       "      <td>235</td>\n",
       "      <td>240</td>\n",
       "      <td>14</td>\n",
       "      <td>2023</td>\n",
       "      <td>7</td>\n",
       "      <td>2023-7</td>\n",
       "    </tr>\n",
       "  </tbody>\n",
       "</table>\n",
       "<p>631 rows × 8 columns</p>\n",
       "</div>"
      ],
      "text/plain": [
       "                         name                created_at   size   \n",
       "44                  tty-clock 2008-06-08 23:25:04+00:00    176  \\\n",
       "83                      faker 2008-12-24 17:20:37+00:00  12914   \n",
       "25                      oocss 2009-01-28 02:13:19+00:00   5287   \n",
       "23               todo.txt-cli 2009-03-06 01:33:34+00:00   5754   \n",
       "39                     ranger 2009-06-04 06:41:11+00:00  10493   \n",
       "..                        ...                       ...    ...   \n",
       "29      hn-recommendation-api 2023-06-13 15:59:18+00:00    147   \n",
       "20                open-resume 2023-06-24 06:06:30+00:00   1906   \n",
       "17                     chathn 2023-06-25 17:39:39+00:00    400   \n",
       "7                  tinyvector 2023-07-01 00:59:09+00:00    180   \n",
       "6   hackernews-personal-blogs 2023-07-07 03:51:10+00:00    235   \n",
       "\n",
       "    stargazers_count  forks_count  created_yy  created_mm created_yymm  \n",
       "44               750          110        2008           6       2008-6  \n",
       "83             10831         3124        2008          12      2008-12  \n",
       "25              6251          741        2009           1       2009-1  \n",
       "23              5240          681        2009           3       2009-3  \n",
       "39             13653          849        2009           6       2009-6  \n",
       "..               ...          ...         ...         ...          ...  \n",
       "29                67            6        2023           6       2023-6  \n",
       "20              3198          202        2023           6       2023-6  \n",
       "17               779          268        2023           6       2023-6  \n",
       "7                599           23        2023           7       2023-7  \n",
       "6                240           14        2023           7       2023-7  \n",
       "\n",
       "[631 rows x 8 columns]"
      ]
     },
     "execution_count": 6,
     "metadata": {},
     "output_type": "execute_result"
    }
   ],
   "source": [
    "num_df[\"created_at\"] = pd.to_datetime(num_df[\"created_at\"])\n",
    "num_df[\"created_yy\"] = num_df.created_at.dt.year\n",
    "num_df[\"created_mm\"] = num_df.created_at.dt.month\n",
    "num_df[\"created_yymm\"] = num_df.created_at.apply(lambda d: str(d.year)+'-'+str(d.month))\n",
    "\n",
    "num_df"
   ]
  },
  {
   "cell_type": "code",
   "execution_count": 7,
   "metadata": {},
   "outputs": [
    {
     "data": {
      "text/plain": [
       "<matplotlib.collections.PathCollection at 0x7fd11a229630>"
      ]
     },
     "execution_count": 7,
     "metadata": {},
     "output_type": "execute_result"
    },
    {
     "data": {
      "image/png": "[encoded data removed]",
      "text/plain": [
       "<Figure size 468x468 with 1 Axes>"
      ]
     },
     "metadata": {
      "needs_background": "light"
     },
     "output_type": "display_data"
    }
   ],
   "source": [
    "f, ax = plt.subplots(figsize=(6.5, 6.5))\n",
    "plt.scatter(x=num_df[\"created_yy\"], y=num_df[\"stargazers_count\"])"
   ]
  },
  {
   "cell_type": "markdown",
   "metadata": {},
   "source": [
    "## Number of starred repos over time"
   ]
  },
  {
   "cell_type": "code",
   "execution_count": 8,
   "metadata": {},
   "outputs": [
    {
     "name": "stdout",
     "output_type": "stream",
     "text": [
      "            starred_at       dates  repos\n",
      "starred_at                               \n",
      "2016-11-09           1  2016-11-09      1\n",
      "2016-11-11           2  2016-11-11      2\n",
      "2016-11-15           5  2016-11-15      5\n",
      "2016-11-17           7  2016-11-17      7\n",
      "2016-11-18           8  2016-11-18      8\n",
      "...                ...         ...    ...\n",
      "2023-07-05         623  2023-07-05    623\n",
      "2023-07-07         626  2023-07-07    626\n",
      "2023-07-08         627  2023-07-08    627\n",
      "2023-07-09         629  2023-07-09    629\n",
      "2023-07-10         631  2023-07-10    631\n",
      "\n",
      "[346 rows x 3 columns]\n"
     ]
    },
    {
     "data": {
      "application/vnd.plotly.v1+json": {
       "config": {
        "plotlyServerURL": "https://plot.ly"
       },
       "data": [
        {
         "hovertemplate": "dates=%{x}<br>repos=%{y}<extra></extra>",
         "legendgroup": "",
         "line": {
          "color": "#636efa",
          "dash": "solid"
         },
         "marker": {
          "symbol": "circle"
         },
         "mode": "lines",
         "name": "",
         "orientation": "v",
         "showlegend": false,
         "type": "scatter",
         "x": [
          "2016-11-09",
          "2016-11-11",
          "2016-11-15",
          "2016-11-17",
          "2016-11-18",
          "2016-11-19",
          "2016-11-22",
          "2016-11-24",
          "2017-02-02",
          "2017-02-04",
          "2017-02-14",
          "2017-02-18",
          "2017-02-22",
          "2017-04-08",
          "2017-06-25",
          "2017-08-21",
          "2017-09-17",
          "2018-03-07",
          "2018-03-12",
          "2018-03-30",
          "2018-04-17",
          "2018-04-21",
          "2018-04-29",
          "2018-05-01",
          "2018-05-02",
          "2018-05-21",
          "2018-05-28",
          "2018-06-08",
          "2018-06-09",
          "2018-06-18",
          "2018-07-16",
          "2019-03-24",
          "2019-06-04",
          "2019-09-13",
          "2020-05-10",
          "2020-05-16",
          "2020-06-10",
          "2020-07-11",
          "2020-07-30",
          "2020-07-31",
          "2020-08-23",
          "2020-10-01",
          "2020-10-10",
          "2021-01-01",
          "2021-01-14",
          "2021-01-22",
          "2021-01-24",
          "2021-01-25",
          "2021-01-26",
          "2021-01-27",
          "2021-01-30",
          "2021-02-04",
          "2021-02-05",
          "2021-02-08",
          "2021-02-09",
          "2021-02-10",
          "2021-02-27",
          "2021-03-01",
          "2021-03-24",
          "2021-03-29",
          "2021-04-10",
          "2021-04-12",
          "2021-04-15",
          "2021-05-06",
          "2021-05-10",
          "2021-05-19",
          "2021-05-20",
          "2021-05-23",
          "2021-05-27",
          "2021-06-16",
          "2021-06-18",
          "2021-06-25",
          "2021-06-28",
          "2021-06-29",
          "2021-07-01",
          "2021-07-02",
          "2021-07-04",
          "2021-07-16",
          "2021-07-20",
          "2021-08-09",
          "2021-08-13",
          "2021-08-19",
          "2021-08-22",
          "2021-09-01",
          "2021-09-05",
          "2021-09-07",
          "2021-09-09",
          "2021-09-12",
          "2021-09-14",
          "2021-10-03",
          "2021-10-06",
          "2021-10-25",
          "2021-11-06",
          "2021-11-09",
          "2021-11-12",
          "2021-12-07",
          "2021-12-11",
          "2021-12-28",
          "2021-12-30",
          "2022-01-02",
          "2022-01-07",
          "2022-01-08",
          "2022-01-10",
          "2022-01-12",
          "2022-01-13",
          "2022-01-16",
          "2022-01-19",
          "2022-01-21",
          "2022-01-23",
          "2022-01-25",
          "2022-01-27",
          "2022-01-29",
          "2022-02-06",
          "2022-02-09",
          "2022-02-13",
          "2022-02-20",
          "2022-03-12",
          "2022-03-13",
          "2022-03-17",
          "2022-03-20",
          "2022-03-21",
          "2022-03-22",
          "2022-03-24",
          "2022-03-26",
          "2022-03-27",
          "2022-03-28",
          "2022-04-02",
          "2022-04-04",
          "2022-04-10",
          "2022-04-12",
          "2022-04-13",
          "2022-04-14",
          "2022-04-17",
          "2022-04-18",
          "2022-04-19",
          "2022-04-23",
          "2022-04-24",
          "2022-04-25",
          "2022-04-26",
          "2022-04-27",
          "2022-04-28",
          "2022-04-30",
          "2022-05-02",
          "2022-05-04",
          "2022-05-05",
          "2022-05-06",
          "2022-05-10",
          "2022-05-11",
          "2022-05-14",
          "2022-05-16",
          "2022-05-18",
          "2022-05-19",
          "2022-05-21",
          "2022-05-22",
          "2022-05-23",
          "2022-05-26",
          "2022-05-28",
          "2022-05-30",
          "2022-06-04",
          "2022-06-08",
          "2022-06-10",
          "2022-06-14",
          "2022-06-17",
          "2022-06-20",
          "2022-06-24",
          "2022-06-26",
          "2022-06-27",
          "2022-06-29",
          "2022-07-01",
          "2022-07-02",
          "2022-07-06",
          "2022-07-11",
          "2022-07-13",
          "2022-07-20",
          "2022-07-21",
          "2022-07-25",
          "2022-07-27",
          "2022-07-30",
          "2022-08-01",
          "2022-08-02",
          "2022-08-03",
          "2022-08-05",
          "2022-08-07",
          "2022-08-10",
          "2022-08-12",
          "2022-08-14",
          "2022-08-17",
          "2022-08-18",
          "2022-08-19",
          "2022-08-21",
          "2022-08-27",
          "2022-08-31",
          "2022-09-01",
          "2022-09-02",
          "2022-09-03",
          "2022-09-04",
          "2022-09-07",
          "2022-09-08",
          "2022-09-09",
          "2022-09-14",
          "2022-09-15",
          "2022-09-20",
          "2022-09-22",
          "2022-09-24",
          "2022-09-25",
          "2022-09-26",
          "2022-09-27",
          "2022-09-28",
          "2022-09-29",
          "2022-10-03",
          "2022-10-04",
          "2022-10-11",
          "2022-10-13",
          "2022-10-21",
          "2022-10-22",
          "2022-10-24",
          "2022-10-25",
          "2022-10-26",
          "2022-10-27",
          "2022-10-28",
          "2022-10-29",
          "2022-10-30",
          "2022-11-01",
          "2022-11-02",
          "2022-11-03",
          "2022-11-06",
          "2022-11-07",
          "2022-11-08",
          "2022-11-09",
          "2022-11-10",
          "2022-11-11",
          "2022-11-13",
          "2022-11-16",
          "2022-11-17",
          "2022-11-18",
          "2022-11-19",
          "2022-11-21",
          "2022-11-22",
          "2022-11-23",
          "2022-11-26",
          "2022-11-27",
          "2022-12-02",
          "2022-12-03",
          "2022-12-05",
          "2022-12-11",
          "2022-12-12",
          "2022-12-14",
          "2022-12-25",
          "2022-12-26",
          "2022-12-27",
          "2022-12-29",
          "2023-01-01",
          "2023-01-02",
          "2023-01-04",
          "2023-01-14",
          "2023-01-15",
          "2023-01-16",
          "2023-01-20",
          "2023-01-25",
          "2023-01-29",
          "2023-01-30",
          "2023-02-01",
          "2023-02-03",
          "2023-02-06",
          "2023-02-07",
          "2023-02-08",
          "2023-02-09",
          "2023-02-13",
          "2023-02-15",
          "2023-02-16",
          "2023-02-17",
          "2023-02-18",
          "2023-02-20",
          "2023-02-24",
          "2023-03-01",
          "2023-03-02",
          "2023-03-03",
          "2023-03-04",
          "2023-03-07",
          "2023-03-09",
          "2023-03-10",
          "2023-03-11",
          "2023-03-16",
          "2023-03-18",
          "2023-03-21",
          "2023-03-22",
          "2023-03-25",
          "2023-03-26",
          "2023-03-27",
          "2023-03-29",
          "2023-03-30",
          "2023-03-31",
          "2023-04-01",
          "2023-04-02",
          "2023-04-03",
          "2023-04-05",
          "2023-04-06",
          "2023-04-07",
          "2023-04-08",
          "2023-04-09",
          "2023-04-10",
          "2023-04-12",
          "2023-04-13",
          "2023-04-14",
          "2023-04-16",
          "2023-04-17",
          "2023-04-18",
          "2023-04-19",
          "2023-04-20",
          "2023-04-21",
          "2023-04-26",
          "2023-04-27",
          "2023-04-28",
          "2023-05-01",
          "2023-05-02",
          "2023-05-04",
          "2023-05-16",
          "2023-05-20",
          "2023-05-22",
          "2023-05-24",
          "2023-05-25",
          "2023-06-02",
          "2023-06-03",
          "2023-06-05",
          "2023-06-07",
          "2023-06-09",
          "2023-06-10",
          "2023-06-12",
          "2023-06-13",
          "2023-06-14",
          "2023-06-18",
          "2023-06-19",
          "2023-06-20",
          "2023-06-22",
          "2023-06-24",
          "2023-06-25",
          "2023-06-27",
          "2023-06-30",
          "2023-07-01",
          "2023-07-03",
          "2023-07-04",
          "2023-07-05",
          "2023-07-07",
          "2023-07-08",
          "2023-07-09",
          "2023-07-10"
         ],
         "xaxis": "x",
         "y": [
          1,
          2,
          5,
          7,
          8,
          10,
          11,
          12,
          13,
          14,
          15,
          17,
          18,
          21,
          22,
          24,
          25,
          26,
          27,
          33,
          36,
          37,
          38,
          39,
          40,
          41,
          42,
          46,
          47,
          48,
          49,
          50,
          51,
          52,
          53,
          54,
          55,
          56,
          57,
          59,
          61,
          62,
          63,
          64,
          65,
          68,
          70,
          71,
          72,
          73,
          74,
          75,
          77,
          78,
          79,
          81,
          84,
          85,
          86,
          89,
          90,
          91,
          92,
          94,
          95,
          96,
          98,
          99,
          100,
          101,
          102,
          103,
          104,
          106,
          109,
          111,
          114,
          116,
          118,
          119,
          120,
          123,
          124,
          126,
          128,
          129,
          130,
          131,
          134,
          135,
          138,
          139,
          140,
          142,
          143,
          144,
          145,
          146,
          148,
          149,
          150,
          151,
          152,
          153,
          154,
          155,
          157,
          159,
          163,
          165,
          166,
          169,
          170,
          171,
          174,
          175,
          176,
          179,
          180,
          181,
          183,
          184,
          185,
          186,
          187,
          191,
          194,
          195,
          200,
          201,
          202,
          203,
          205,
          206,
          211,
          216,
          217,
          218,
          220,
          223,
          224,
          226,
          229,
          235,
          238,
          239,
          240,
          242,
          244,
          245,
          247,
          248,
          253,
          256,
          257,
          259,
          260,
          261,
          264,
          266,
          267,
          269,
          270,
          271,
          272,
          273,
          274,
          275,
          276,
          277,
          279,
          281,
          282,
          285,
          289,
          290,
          291,
          293,
          295,
          297,
          303,
          304,
          306,
          308,
          309,
          310,
          311,
          312,
          317,
          318,
          320,
          321,
          323,
          324,
          326,
          328,
          331,
          332,
          333,
          334,
          336,
          339,
          340,
          343,
          345,
          347,
          348,
          349,
          350,
          352,
          353,
          357,
          359,
          360,
          361,
          364,
          366,
          374,
          376,
          379,
          381,
          385,
          388,
          389,
          390,
          392,
          394,
          398,
          400,
          403,
          405,
          406,
          407,
          408,
          416,
          420,
          423,
          424,
          425,
          427,
          428,
          429,
          430,
          433,
          434,
          436,
          437,
          440,
          441,
          442,
          443,
          444,
          445,
          446,
          447,
          448,
          451,
          452,
          454,
          457,
          459,
          460,
          462,
          464,
          465,
          467,
          472,
          474,
          481,
          482,
          484,
          485,
          486,
          490,
          492,
          494,
          495,
          496,
          497,
          499,
          501,
          503,
          504,
          506,
          508,
          511,
          513,
          514,
          516,
          517,
          519,
          521,
          522,
          524,
          525,
          527,
          528,
          533,
          536,
          538,
          540,
          541,
          542,
          543,
          544,
          545,
          546,
          550,
          551,
          552,
          555,
          558,
          559,
          561,
          562,
          567,
          568,
          571,
          572,
          573,
          574,
          577,
          581,
          584,
          587,
          588,
          589,
          590,
          592,
          594,
          596,
          601,
          603,
          604,
          608,
          612,
          616,
          618,
          620,
          621,
          622,
          623,
          626,
          627,
          629,
          631
         ],
         "yaxis": "y"
        }
       ],
       "layout": {
        "legend": {
         "tracegroupgap": 0
        },
        "template": {
         "data": {
          "bar": [
           {
            "error_x": {
             "color": "#2a3f5f"
            },
            "error_y": {
             "color": "#2a3f5f"
            },
            "marker": {
             "line": {
              "color": "#E5ECF6",
              "width": 0.5
             },
             "pattern": {
              "fillmode": "overlay",
              "size": 10,
              "solidity": 0.2
             }
            },
            "type": "bar"
           }
          ],
          "barpolar": [
           {
            "marker": {
             "line": {
              "color": "#E5ECF6",
              "width": 0.5
             },
             "pattern": {
              "fillmode": "overlay",
              "size": 10,
              "solidity": 0.2
             }
            },
            "type": "barpolar"
           }
          ],
          "carpet": [
           {
            "aaxis": {
             "endlinecolor": "#2a3f5f",
             "gridcolor": "white",
             "linecolor": "white",
             "minorgridcolor": "white",
             "startlinecolor": "#2a3f5f"
            },
            "baxis": {
             "endlinecolor": "#2a3f5f",
             "gridcolor": "white",
             "linecolor": "white",
             "minorgridcolor": "white",
             "startlinecolor": "#2a3f5f"
            },
            "type": "carpet"
           }
          ],
          "choropleth": [
           {
            "colorbar": {
             "outlinewidth": 0,
             "ticks": ""
            },
            "type": "choropleth"
           }
          ],
          "contour": [
           {
            "colorbar": {
             "outlinewidth": 0,
             "ticks": ""
            },
            "colorscale": [
             [
              0,
              "#0d0887"
             ],
             [
              0.1111111111111111,
              "#46039f"
             ],
             [
              0.2222222222222222,
              "#7201a8"
             ],
             [
              0.3333333333333333,
              "#9c179e"
             ],
             [
              0.4444444444444444,
              "#bd3786"
             ],
             [
              0.5555555555555556,
              "#d8576b"
             ],
             [
              0.6666666666666666,
              "#ed7953"
             ],
             [
              0.7777777777777778,
              "#fb9f3a"
             ],
             [
              0.8888888888888888,
              "#fdca26"
             ],
             [
              1,
              "#f0f921"
             ]
            ],
            "type": "contour"
           }
          ],
          "contourcarpet": [
           {
            "colorbar": {
             "outlinewidth": 0,
             "ticks": ""
            },
            "type": "contourcarpet"
           }
          ],
          "heatmap": [
           {
            "colorbar": {
             "outlinewidth": 0,
             "ticks": ""
            },
            "colorscale": [
             [
              0,
              "#0d0887"
             ],
             [
              0.1111111111111111,
              "#46039f"
             ],
             [
              0.2222222222222222,
              "#7201a8"
             ],
             [
              0.3333333333333333,
              "#9c179e"
             ],
             [
              0.4444444444444444,
              "#bd3786"
             ],
             [
              0.5555555555555556,
              "#d8576b"
             ],
             [
              0.6666666666666666,
              "#ed7953"
             ],
             [
              0.7777777777777778,
              "#fb9f3a"
             ],
             [
              0.8888888888888888,
              "#fdca26"
             ],
             [
              1,
              "#f0f921"
             ]
            ],
            "type": "heatmap"
           }
          ],
          "heatmapgl": [
           {
            "colorbar": {
             "outlinewidth": 0,
             "ticks": ""
            },
            "colorscale": [
             [
              0,
              "#0d0887"
             ],
             [
              0.1111111111111111,
              "#46039f"
             ],
             [
              0.2222222222222222,
              "#7201a8"
             ],
             [
              0.3333333333333333,
              "#9c179e"
             ],
             [
              0.4444444444444444,
              "#bd3786"
             ],
             [
              0.5555555555555556,
              "#d8576b"
             ],
             [
              0.6666666666666666,
              "#ed7953"
             ],
             [
              0.7777777777777778,
              "#fb9f3a"
             ],
             [
              0.8888888888888888,
              "#fdca26"
             ],
             [
              1,
              "#f0f921"
             ]
            ],
            "type": "heatmapgl"
           }
          ],
          "histogram": [
           {
            "marker": {
             "pattern": {
              "fillmode": "overlay",
              "size": 10,
              "solidity": 0.2
             }
            },
            "type": "histogram"
           }
          ],
          "histogram2d": [
           {
            "colorbar": {
             "outlinewidth": 0,
             "ticks": ""
            },
            "colorscale": [
             [
              0,
              "#0d0887"
             ],
             [
              0.1111111111111111,
              "#46039f"
             ],
             [
              0.2222222222222222,
              "#7201a8"
             ],
             [
              0.3333333333333333,
              "#9c179e"
             ],
             [
              0.4444444444444444,
              "#bd3786"
             ],
             [
              0.5555555555555556,
              "#d8576b"
             ],
             [
              0.6666666666666666,
              "#ed7953"
             ],
             [
              0.7777777777777778,
              "#fb9f3a"
             ],
             [
              0.8888888888888888,
              "#fdca26"
             ],
             [
              1,
              "#f0f921"
             ]
            ],
            "type": "histogram2d"
           }
          ],
          "histogram2dcontour": [
           {
            "colorbar": {
             "outlinewidth": 0,
             "ticks": ""
            },
            "colorscale": [
             [
              0,
              "#0d0887"
             ],
             [
              0.1111111111111111,
              "#46039f"
             ],
             [
              0.2222222222222222,
              "#7201a8"
             ],
             [
              0.3333333333333333,
              "#9c179e"
             ],
             [
              0.4444444444444444,
              "#bd3786"
             ],
             [
              0.5555555555555556,
              "#d8576b"
             ],
             [
              0.6666666666666666,
              "#ed7953"
             ],
             [
              0.7777777777777778,
              "#fb9f3a"
             ],
             [
              0.8888888888888888,
              "#fdca26"
             ],
             [
              1,
              "#f0f921"
             ]
            ],
            "type": "histogram2dcontour"
           }
          ],
          "mesh3d": [
           {
            "colorbar": {
             "outlinewidth": 0,
             "ticks": ""
            },
            "type": "mesh3d"
           }
          ],
          "parcoords": [
           {
            "line": {
             "colorbar": {
              "outlinewidth": 0,
              "ticks": ""
             }
            },
            "type": "parcoords"
           }
          ],
          "pie": [
           {
            "automargin": true,
            "type": "pie"
           }
          ],
          "scatter": [
           {
            "fillpattern": {
             "fillmode": "overlay",
             "size": 10,
             "solidity": 0.2
            },
            "type": "scatter"
           }
          ],
          "scatter3d": [
           {
            "line": {
             "colorbar": {
              "outlinewidth": 0,
              "ticks": ""
             }
            },
            "marker": {
             "colorbar": {
              "outlinewidth": 0,
              "ticks": ""
             }
            },
            "type": "scatter3d"
           }
          ],
          "scattercarpet": [
           {
            "marker": {
             "colorbar": {
              "outlinewidth": 0,
              "ticks": ""
             }
            },
            "type": "scattercarpet"
           }
          ],
          "scattergeo": [
           {
            "marker": {
             "colorbar": {
              "outlinewidth": 0,
              "ticks": ""
             }
            },
            "type": "scattergeo"
           }
          ],
          "scattergl": [
           {
            "marker": {
             "colorbar": {
              "outlinewidth": 0,
              "ticks": ""
             }
            },
            "type": "scattergl"
           }
          ],
          "scattermapbox": [
           {
            "marker": {
             "colorbar": {
              "outlinewidth": 0,
              "ticks": ""
             }
            },
            "type": "scattermapbox"
           }
          ],
          "scatterpolar": [
           {
            "marker": {
             "colorbar": {
              "outlinewidth": 0,
              "ticks": ""
             }
            },
            "type": "scatterpolar"
           }
          ],
          "scatterpolargl": [
           {
            "marker": {
             "colorbar": {
              "outlinewidth": 0,
              "ticks": ""
             }
            },
            "type": "scatterpolargl"
           }
          ],
          "scatterternary": [
           {
            "marker": {
             "colorbar": {
              "outlinewidth": 0,
              "ticks": ""
             }
            },
            "type": "scatterternary"
           }
          ],
          "surface": [
           {
            "colorbar": {
             "outlinewidth": 0,
             "ticks": ""
            },
            "colorscale": [
             [
              0,
              "#0d0887"
             ],
             [
              0.1111111111111111,
              "#46039f"
             ],
             [
              0.2222222222222222,
              "#7201a8"
             ],
             [
              0.3333333333333333,
              "#9c179e"
             ],
             [
              0.4444444444444444,
              "#bd3786"
             ],
             [
              0.5555555555555556,
              "#d8576b"
             ],
             [
              0.6666666666666666,
              "#ed7953"
             ],
             [
              0.7777777777777778,
              "#fb9f3a"
             ],
             [
              0.8888888888888888,
              "#fdca26"
             ],
             [
              1,
              "#f0f921"
             ]
            ],
            "type": "surface"
           }
          ],
          "table": [
           {
            "cells": {
             "fill": {
              "color": "#EBF0F8"
             },
             "line": {
              "color": "white"
             }
            },
            "header": {
             "fill": {
              "color": "#C8D4E3"
             },
             "line": {
              "color": "white"
             }
            },
            "type": "table"
           }
          ]
         },
         "layout": {
          "annotationdefaults": {
           "arrowcolor": "#2a3f5f",
           "arrowhead": 0,
           "arrowwidth": 1
          },
          "autotypenumbers": "strict",
          "coloraxis": {
           "colorbar": {
            "outlinewidth": 0,
            "ticks": ""
           }
          },
          "colorscale": {
           "diverging": [
            [
             0,
             "#8e0152"
            ],
            [
             0.1,
             "#c51b7d"
            ],
            [
             0.2,
             "#de77ae"
            ],
            [
             0.3,
             "#f1b6da"
            ],
            [
             0.4,
             "#fde0ef"
            ],
            [
             0.5,
             "#f7f7f7"
            ],
            [
             0.6,
             "#e6f5d0"
            ],
            [
             0.7,
             "#b8e186"
            ],
            [
             0.8,
             "#7fbc41"
            ],
            [
             0.9,
             "#4d9221"
            ],
            [
             1,
             "#276419"
            ]
           ],
           "sequential": [
            [
             0,
             "#0d0887"
            ],
            [
             0.1111111111111111,
             "#46039f"
            ],
            [
             0.2222222222222222,
             "#7201a8"
            ],
            [
             0.3333333333333333,
             "#9c179e"
            ],
            [
             0.4444444444444444,
             "#bd3786"
            ],
            [
             0.5555555555555556,
             "#d8576b"
            ],
            [
             0.6666666666666666,
             "#ed7953"
            ],
            [
             0.7777777777777778,
             "#fb9f3a"
            ],
            [
             0.8888888888888888,
             "#fdca26"
            ],
            [
             1,
             "#f0f921"
            ]
           ],
           "sequentialminus": [
            [
             0,
             "#0d0887"
            ],
            [
             0.1111111111111111,
             "#46039f"
            ],
            [
             0.2222222222222222,
             "#7201a8"
            ],
            [
             0.3333333333333333,
             "#9c179e"
            ],
            [
             0.4444444444444444,
             "#bd3786"
            ],
            [
             0.5555555555555556,
             "#d8576b"
            ],
            [
             0.6666666666666666,
             "#ed7953"
            ],
            [
             0.7777777777777778,
             "#fb9f3a"
            ],
            [
             0.8888888888888888,
             "#fdca26"
            ],
            [
             1,
             "#f0f921"
            ]
           ]
          },
          "colorway": [
           "#636efa",
           "#EF553B",
           "#00cc96",
           "#ab63fa",
           "#FFA15A",
           "#19d3f3",
           "#FF6692",
           "#B6E880",
           "#FF97FF",
           "#FECB52"
          ],
          "font": {
           "color": "#2a3f5f"
          },
          "geo": {
           "bgcolor": "white",
           "lakecolor": "white",
           "landcolor": "#E5ECF6",
           "showlakes": true,
           "showland": true,
           "subunitcolor": "white"
          },
          "hoverlabel": {
           "align": "left"
          },
          "hovermode": "closest",
          "mapbox": {
           "style": "light"
          },
          "paper_bgcolor": "white",
          "plot_bgcolor": "#E5ECF6",
          "polar": {
           "angularaxis": {
            "gridcolor": "white",
            "linecolor": "white",
            "ticks": ""
           },
           "bgcolor": "#E5ECF6",
           "radialaxis": {
            "gridcolor": "white",
            "linecolor": "white",
            "ticks": ""
           }
          },
          "scene": {
           "xaxis": {
            "backgroundcolor": "#E5ECF6",
            "gridcolor": "white",
            "gridwidth": 2,
            "linecolor": "white",
            "showbackground": true,
            "ticks": "",
            "zerolinecolor": "white"
           },
           "yaxis": {
            "backgroundcolor": "#E5ECF6",
            "gridcolor": "white",
            "gridwidth": 2,
            "linecolor": "white",
            "showbackground": true,
            "ticks": "",
            "zerolinecolor": "white"
           },
           "zaxis": {
            "backgroundcolor": "#E5ECF6",
            "gridcolor": "white",
            "gridwidth": 2,
            "linecolor": "white",
            "showbackground": true,
            "ticks": "",
            "zerolinecolor": "white"
           }
          },
          "shapedefaults": {
           "line": {
            "color": "#2a3f5f"
           }
          },
          "ternary": {
           "aaxis": {
            "gridcolor": "white",
            "linecolor": "white",
            "ticks": ""
           },
           "baxis": {
            "gridcolor": "white",
            "linecolor": "white",
            "ticks": ""
           },
           "bgcolor": "#E5ECF6",
           "caxis": {
            "gridcolor": "white",
            "linecolor": "white",
            "ticks": ""
           }
          },
          "title": {
           "x": 0.05
          },
          "xaxis": {
           "automargin": true,
           "gridcolor": "white",
           "linecolor": "white",
           "ticks": "",
           "title": {
            "standoff": 15
           },
           "zerolinecolor": "white",
           "zerolinewidth": 2
          },
          "yaxis": {
           "automargin": true,
           "gridcolor": "white",
           "linecolor": "white",
           "ticks": "",
           "title": {
            "standoff": 15
           },
           "zerolinecolor": "white",
           "zerolinewidth": 2
          }
         }
        },
        "title": {
         "text": "Number of starred repos over time"
        },
        "xaxis": {
         "anchor": "y",
         "domain": [
          0,
          1
         ],
         "title": {
          "text": "dates"
         }
        },
        "yaxis": {
         "anchor": "x",
         "domain": [
          0,
          1
         ],
         "title": {
          "text": "repos"
         }
        }
       }
      }
     },
     "metadata": {},
     "output_type": "display_data"
    }
   ],
   "source": [
    "starred_dt = pd.to_datetime(df[\"starred_at\"]).sort_values()\n",
    "\n",
    "starred_dt = starred_dt.groupby(by=starred_dt.dt.date).count().cumsum()\n",
    "starred_dt = pd.DataFrame(starred_dt)\n",
    "starred_dt[\"dates\"] = starred_dt.index\n",
    "starred_dt[\"repos\"] = starred_dt[\"starred_at\"]\n",
    "\n",
    "print(starred_dt)\n",
    "\n",
    "fig = px.line(starred_dt, x=\"dates\", y=\"repos\", title=\"Number of starred repos over time\")\n",
    "fig.show()\n"
   ]
  },
  {
   "cell_type": "markdown",
   "metadata": {},
   "source": [
    "## Top k topics (and its repositories)"
   ]
  },
  {
   "cell_type": "code",
   "execution_count": 9,
   "metadata": {},
   "outputs": [
    {
     "name": "stdout",
     "output_type": "stream",
     "text": [
      "['python', 'hacktoberfest', 'machine-learning', 'linux', 'awesome']\n"
     ]
    }
   ],
   "source": [
    "k = 5\n",
    "top_k_topics = topics_cnt.head(k)[\"topic\"].tolist()\n",
    "print(top_k_topics)"
   ]
  },
  {
   "cell_type": "code",
   "execution_count": 10,
   "metadata": {},
   "outputs": [],
   "source": [
    "# for topic in top_k_topics:\n",
    "    # display(df.query(\"@topic in topics.array.tolist()\").head())\n",
    "# df.query(\"topics.find('python')\")"
   ]
  },
  {
   "cell_type": "markdown",
   "metadata": {},
   "source": [
    "## What am I interested in now?\n",
    "- A lot of python and typescript, apparently..."
   ]
  },
  {
   "cell_type": "code",
   "execution_count": 11,
   "metadata": {},
   "outputs": [
    {
     "data": {
      "text/html": [
       "<div>\n",
       "<style scoped>\n",
       "    .dataframe tbody tr th:only-of-type {\n",
       "        vertical-align: middle;\n",
       "    }\n",
       "\n",
       "    .dataframe tbody tr th {\n",
       "        vertical-align: top;\n",
       "    }\n",
       "\n",
       "    .dataframe thead th {\n",
       "        text-align: right;\n",
       "    }\n",
       "</style>\n",
       "<table border=\"1\" class=\"dataframe\">\n",
       "  <thead>\n",
       "    <tr style=\"text-align: right;\">\n",
       "      <th></th>\n",
       "      <th>id</th>\n",
       "      <th>name</th>\n",
       "      <th>full_name</th>\n",
       "      <th>private</th>\n",
       "      <th>html_url</th>\n",
       "      <th>starred_at</th>\n",
       "      <th>created_at</th>\n",
       "      <th>updated_at</th>\n",
       "      <th>pushed_at</th>\n",
       "      <th>homepage</th>\n",
       "      <th>size</th>\n",
       "      <th>stargazers_count</th>\n",
       "      <th>watchers_count</th>\n",
       "      <th>language</th>\n",
       "      <th>forks_count</th>\n",
       "      <th>description</th>\n",
       "      <th>topics</th>\n",
       "      <th>visibility</th>\n",
       "      <th>forks</th>\n",
       "      <th>watchers</th>\n",
       "    </tr>\n",
       "  </thead>\n",
       "  <tbody>\n",
       "    <tr>\n",
       "      <th>37</th>\n",
       "      <td>138331573</td>\n",
       "      <td>NLP-progress</td>\n",
       "      <td>sebastianruder/NLP-progress</td>\n",
       "      <td>False</td>\n",
       "      <td>https://github.com/sebastianruder/NLP-progress</td>\n",
       "      <td>2023-06-14 09:20:30+00:00</td>\n",
       "      <td>2018-06-22 17:43:55+00:00</td>\n",
       "      <td>2023-07-10 16:50:59+00:00</td>\n",
       "      <td>2023-06-22 13:55:48+00:00</td>\n",
       "      <td>https://nlpprogress.com/</td>\n",
       "      <td>1345</td>\n",
       "      <td>21753</td>\n",
       "      <td>21753</td>\n",
       "      <td>Python</td>\n",
       "      <td>3574</td>\n",
       "      <td>Repository to track the progress in Natural La...</td>\n",
       "      <td>[dialogue, machine-learning, machine-translati...</td>\n",
       "      <td>public</td>\n",
       "      <td>3574</td>\n",
       "      <td>21753</td>\n",
       "    </tr>\n",
       "    <tr>\n",
       "      <th>38</th>\n",
       "      <td>9118195</td>\n",
       "      <td>keyboard</td>\n",
       "      <td>jasonrudolph/keyboard</td>\n",
       "      <td>False</td>\n",
       "      <td>https://github.com/jasonrudolph/keyboard</td>\n",
       "      <td>2023-06-14 07:36:57+00:00</td>\n",
       "      <td>2013-03-30 16:01:43+00:00</td>\n",
       "      <td>2023-07-10 16:58:59+00:00</td>\n",
       "      <td>2022-07-25 00:38:52+00:00</td>\n",
       "      <td>NaN</td>\n",
       "      <td>3326</td>\n",
       "      <td>1995</td>\n",
       "      <td>1995</td>\n",
       "      <td>Lua</td>\n",
       "      <td>214</td>\n",
       "      <td>⌨ Toward a more useful keyboard</td>\n",
       "      <td>[caps-lock, hammerspoon, hjkl, karabiner, keyb...</td>\n",
       "      <td>public</td>\n",
       "      <td>214</td>\n",
       "      <td>1995</td>\n",
       "    </tr>\n",
       "    <tr>\n",
       "      <th>39</th>\n",
       "      <td>229293932</td>\n",
       "      <td>AwesomeKorean_Data</td>\n",
       "      <td>songys/AwesomeKorean_Data</td>\n",
       "      <td>False</td>\n",
       "      <td>https://github.com/songys/AwesomeKorean_Data</td>\n",
       "      <td>2023-06-13 02:07:14+00:00</td>\n",
       "      <td>2019-12-20 15:58:01+00:00</td>\n",
       "      <td>2023-07-10 09:03:34+00:00</td>\n",
       "      <td>2023-06-25 08:54:53+00:00</td>\n",
       "      <td>NaN</td>\n",
       "      <td>1663</td>\n",
       "      <td>631</td>\n",
       "      <td>631</td>\n",
       "      <td>NaN</td>\n",
       "      <td>88</td>\n",
       "      <td>한국어 데이터 세트 링크</td>\n",
       "      <td>[]</td>\n",
       "      <td>public</td>\n",
       "      <td>88</td>\n",
       "      <td>631</td>\n",
       "    </tr>\n",
       "    <tr>\n",
       "      <th>40</th>\n",
       "      <td>178626720</td>\n",
       "      <td>lightning</td>\n",
       "      <td>Lightning-AI/lightning</td>\n",
       "      <td>False</td>\n",
       "      <td>https://github.com/Lightning-AI/lightning</td>\n",
       "      <td>2023-06-13 01:46:48+00:00</td>\n",
       "      <td>2019-03-31 00:45:57+00:00</td>\n",
       "      <td>2023-07-10 17:23:57+00:00</td>\n",
       "      <td>2023-07-10 18:08:12+00:00</td>\n",
       "      <td>https://lightning.ai</td>\n",
       "      <td>124189</td>\n",
       "      <td>23989</td>\n",
       "      <td>23989</td>\n",
       "      <td>Python</td>\n",
       "      <td>2960</td>\n",
       "      <td>Deep learning framework to train, deploy, and ...</td>\n",
       "      <td>[ai, artificial-intelligence, data-science, de...</td>\n",
       "      <td>public</td>\n",
       "      <td>2960</td>\n",
       "      <td>23989</td>\n",
       "    </tr>\n",
       "    <tr>\n",
       "      <th>41</th>\n",
       "      <td>230885748</td>\n",
       "      <td>authentik</td>\n",
       "      <td>goauthentik/authentik</td>\n",
       "      <td>False</td>\n",
       "      <td>https://github.com/goauthentik/authentik</td>\n",
       "      <td>2023-06-12 14:53:13+00:00</td>\n",
       "      <td>2019-12-30 09:19:48+00:00</td>\n",
       "      <td>2023-07-10 13:42:25+00:00</td>\n",
       "      <td>2023-07-10 13:33:20+00:00</td>\n",
       "      <td>https://goauthentik.io</td>\n",
       "      <td>223407</td>\n",
       "      <td>4194</td>\n",
       "      <td>4194</td>\n",
       "      <td>Python</td>\n",
       "      <td>333</td>\n",
       "      <td>The authentication glue you need.</td>\n",
       "      <td>[authentication, authentik, authorization, hac...</td>\n",
       "      <td>public</td>\n",
       "      <td>333</td>\n",
       "      <td>4194</td>\n",
       "    </tr>\n",
       "  </tbody>\n",
       "</table>\n",
       "</div>"
      ],
      "text/plain": [
       "           id                name                    full_name  private   \n",
       "37  138331573        NLP-progress  sebastianruder/NLP-progress    False  \\\n",
       "38    9118195            keyboard        jasonrudolph/keyboard    False   \n",
       "39  229293932  AwesomeKorean_Data    songys/AwesomeKorean_Data    False   \n",
       "40  178626720           lightning       Lightning-AI/lightning    False   \n",
       "41  230885748           authentik        goauthentik/authentik    False   \n",
       "\n",
       "                                          html_url                starred_at   \n",
       "37  https://github.com/sebastianruder/NLP-progress 2023-06-14 09:20:30+00:00  \\\n",
       "38        https://github.com/jasonrudolph/keyboard 2023-06-14 07:36:57+00:00   \n",
       "39    https://github.com/songys/AwesomeKorean_Data 2023-06-13 02:07:14+00:00   \n",
       "40       https://github.com/Lightning-AI/lightning 2023-06-13 01:46:48+00:00   \n",
       "41        https://github.com/goauthentik/authentik 2023-06-12 14:53:13+00:00   \n",
       "\n",
       "                  created_at                updated_at   \n",
       "37 2018-06-22 17:43:55+00:00 2023-07-10 16:50:59+00:00  \\\n",
       "38 2013-03-30 16:01:43+00:00 2023-07-10 16:58:59+00:00   \n",
       "39 2019-12-20 15:58:01+00:00 2023-07-10 09:03:34+00:00   \n",
       "40 2019-03-31 00:45:57+00:00 2023-07-10 17:23:57+00:00   \n",
       "41 2019-12-30 09:19:48+00:00 2023-07-10 13:42:25+00:00   \n",
       "\n",
       "                   pushed_at                  homepage    size   \n",
       "37 2023-06-22 13:55:48+00:00  https://nlpprogress.com/    1345  \\\n",
       "38 2022-07-25 00:38:52+00:00                       NaN    3326   \n",
       "39 2023-06-25 08:54:53+00:00                       NaN    1663   \n",
       "40 2023-07-10 18:08:12+00:00      https://lightning.ai  124189   \n",
       "41 2023-07-10 13:33:20+00:00    https://goauthentik.io  223407   \n",
       "\n",
       "    stargazers_count  watchers_count language  forks_count   \n",
       "37             21753           21753   Python         3574  \\\n",
       "38              1995            1995      Lua          214   \n",
       "39               631             631      NaN           88   \n",
       "40             23989           23989   Python         2960   \n",
       "41              4194            4194   Python          333   \n",
       "\n",
       "                                          description   \n",
       "37  Repository to track the progress in Natural La...  \\\n",
       "38                    ⌨ Toward a more useful keyboard   \n",
       "39                                      한국어 데이터 세트 링크   \n",
       "40  Deep learning framework to train, deploy, and ...   \n",
       "41                  The authentication glue you need.   \n",
       "\n",
       "                                               topics visibility  forks   \n",
       "37  [dialogue, machine-learning, machine-translati...     public   3574  \\\n",
       "38  [caps-lock, hammerspoon, hjkl, karabiner, keyb...     public    214   \n",
       "39                                                 []     public     88   \n",
       "40  [ai, artificial-intelligence, data-science, de...     public   2960   \n",
       "41  [authentication, authentik, authorization, hac...     public    333   \n",
       "\n",
       "    watchers  \n",
       "37     21753  \n",
       "38      1995  \n",
       "39       631  \n",
       "40     23989  \n",
       "41      4194  "
      ]
     },
     "execution_count": 11,
     "metadata": {},
     "output_type": "execute_result"
    }
   ],
   "source": [
    "from datetime import date, timedelta\n",
    "\n",
    "prev30 = df[df.starred_at.dt.date > date.today()-timedelta(days=30)]\n",
    "prev30.tail()"
   ]
  },
  {
   "cell_type": "code",
   "execution_count": 12,
   "metadata": {},
   "outputs": [
    {
     "data": {
      "text/plain": [
       "Text(0, 0.5, 'count')"
      ]
     },
     "execution_count": 12,
     "metadata": {},
     "output_type": "execute_result"
    },
    {
     "name": "stderr",
     "output_type": "stream",
     "text": [
      "findfont: Font family ['xkcd', 'xkcd Script', 'Humor Sans', 'Comic Neue', 'Comic Sans MS', 'StayPuft'] not found. Falling back to DejaVu Sans.\n",
      "findfont: Font family ['xkcd', 'xkcd Script', 'Humor Sans', 'Comic Neue', 'Comic Sans MS', 'StayPuft'] not found. Falling back to DejaVu Sans.\n"
     ]
    },
    {
     "data": {
      "image/png": "[encoded data removed]",
      "text/plain": [
       "<Figure size 432x288 with 1 Axes>"
      ]
     },
     "metadata": {},
     "output_type": "display_data"
    }
   ],
   "source": [
    "langs = prev30[\"language\"].dropna()\n",
    "plt.xkcd(randomness=42)\n",
    "plt.title(\"What am I interested in? (previous 30 days)\")\n",
    "plt.hist(x=langs)\n",
    "plt.xticks(rotation=50)\n",
    "plt.xlabel(\"languages\")\n",
    "plt.ylabel(\"count\")"
   ]
  }
 ],
 "metadata": {
  "kernelspec": {
   "display_name": "Python 3",
   "language": "python",
   "name": "python3"
  },
  "language_info": {
   "codemirror_mode": {
    "name": "ipython",
    "version": 3
   },
   "file_extension": ".py",
   "mimetype": "text/x-python",
   "name": "python",
   "nbconvert_exporter": "python",
   "pygments_lexer": "ipython3",
   "version": "3.10.6"
  },
  "orig_nbformat": 4
 },
 "nbformat": 4,
 "nbformat_minor": 2
}
